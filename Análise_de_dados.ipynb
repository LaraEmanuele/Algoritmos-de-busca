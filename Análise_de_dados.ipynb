{
  "nbformat": 4,
  "nbformat_minor": 0,
  "metadata": {
    "colab": {
      "provenance": [],
      "authorship_tag": "ABX9TyOaponadWPJB5Sy11PUfcVE",
      "include_colab_link": true
    },
    "kernelspec": {
      "name": "python3",
      "display_name": "Python 3"
    },
    "language_info": {
      "name": "python"
    }
  },
  "cells": [
    {
      "cell_type": "markdown",
      "metadata": {
        "id": "view-in-github",
        "colab_type": "text"
      },
      "source": [
        "<a href=\"https://colab.research.google.com/github/LaraEmanuele/Algoritmos-de-busca/blob/main/An%C3%A1lise_de_dados.ipynb\" target=\"_parent\"><img src=\"https://colab.research.google.com/assets/colab-badge.svg\" alt=\"Open In Colab\"/></a>"
      ]
    },
    {
      "cell_type": "markdown",
      "source": [
        "# Algoritmos de Busca\n",
        "Serão implementados 3 algoritmos de busca que são:\n",
        "\n",
        "\n",
        "1.   Busca sequencial\n",
        "2.   Busca Sequencial Otimizada\n",
        "3.   Busca binária"
      ],
      "metadata": {
        "id": "6t7Fj2PovNJe"
      }
    },
    {
      "cell_type": "markdown",
      "source": [
        "##Etapa 1 - Obteção dos valores\n",
        "Primeiramente, precisamos do vetor em que será realizado a busca."
      ],
      "metadata": {
        "id": "Tb1_at5qwCbS"
      }
    },
    {
      "cell_type": "code",
      "source": [
        "linha = input(\"Digite os valores separados por um espaco: \")\n",
        "VDividos = linha.split()\n",
        "V = map(float, VDividos)\n",
        "print(\"Os valores digitados foram: \", VDividos)\n"
      ],
      "metadata": {
        "colab": {
          "base_uri": "https://localhost:8080/"
        },
        "id": "oS2w-fy0vMfH",
        "outputId": "087a37e3-ca06-4cc4-d548-d6785ab1b773"
      },
      "execution_count": null,
      "outputs": [
        {
          "output_type": "stream",
          "name": "stdout",
          "text": [
            "Digite os valores separados por um espaco: 1 2 3 4 5\n",
            "Os valores digitados foram:  ['1', '2', '3', '4', '5']\n"
          ]
        }
      ]
    },
    {
      "cell_type": "markdown",
      "source": [
        "##Etapa 2 - Ordenar os dados\n",
        "Esse processo será feito pelos seguites métodos de ordenação:\n",
        "\n",
        "\n",
        "1.   Bubblesort\n",
        "2.   Insertionsort\n",
        "3.   Mergesort\n",
        "4.   Quicksort\n",
        "5.   Heapsort\n",
        "6.   Ordenação Pseudolinear\n",
        "\n"
      ],
      "metadata": {
        "id": "56yQ78Ov3TPJ"
      }
    },
    {
      "cell_type": "markdown",
      "source": [],
      "metadata": {
        "id": "JwR1q-_X6qbh"
      }
    },
    {
      "cell_type": "code",
      "source": [],
      "metadata": {
        "id": "coS8QZcr3ggm"
      },
      "execution_count": null,
      "outputs": []
    }
  ]
}