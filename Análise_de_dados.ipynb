{
  "nbformat": 4,
  "nbformat_minor": 0,
  "metadata": {
    "colab": {
      "provenance": [],
      "authorship_tag": "ABX9TyPSsPPtKjJZzM/SkBve28Fq",
      "include_colab_link": true
    },
    "kernelspec": {
      "name": "python3",
      "display_name": "Python 3"
    },
    "language_info": {
      "name": "python"
    }
  },
  "cells": [
    {
      "cell_type": "markdown",
      "metadata": {
        "id": "view-in-github",
        "colab_type": "text"
      },
      "source": [
        "<a href=\"https://colab.research.google.com/github/LaraEmanuele/Algoritmos-de-busca/blob/main/An%C3%A1lise_de_dados.ipynb\" target=\"_parent\"><img src=\"https://colab.research.google.com/assets/colab-badge.svg\" alt=\"Open In Colab\"/></a>"
      ]
    },
    {
      "cell_type": "markdown",
      "source": [
        "# Algoritmos de Busca\n",
        "Serão implementados 3 algoritmos de busca que são:\n",
        "\n",
        "\n",
        "1.   Busca sequencial\n",
        "2.   Busca Sequencial Otimizada\n",
        "3.   Busca binária"
      ],
      "metadata": {
        "id": "6t7Fj2PovNJe"
      }
    },
    {
      "cell_type": "markdown",
      "source": [
        "##Bibliotecas\n"
      ],
      "metadata": {
        "id": "O0IborrzwtWK"
      }
    },
    {
      "cell_type": "code",
      "source": [
        "import time"
      ],
      "metadata": {
        "id": "usYOKxB8wxC5"
      },
      "execution_count": 34,
      "outputs": []
    },
    {
      "cell_type": "markdown",
      "source": [
        "##Etapa 1 - Obteção dos valores\n",
        "Primeiramente, precisamos do vetor em que será realizado a busca."
      ],
      "metadata": {
        "id": "Tb1_at5qwCbS"
      }
    },
    {
      "cell_type": "code",
      "source": [
        "linha = input(\"Digite os valores separados por um espaco: \")\n",
        "VDividos = linha.split()\n",
        "VMap = map(int, VDividos)\n",
        "V = list(VMap)\n",
        "print(\"Os valores digitados foram: \", V)\n"
      ],
      "metadata": {
        "colab": {
          "base_uri": "https://localhost:8080/"
        },
        "id": "oS2w-fy0vMfH",
        "outputId": "ce8efc21-28c7-44b7-a560-3ffed2b068d6"
      },
      "execution_count": 21,
      "outputs": [
        {
          "output_type": "stream",
          "name": "stdout",
          "text": [
            "Digite os valores separados por um espaco: 7 4 5 2\n",
            "Os valores digitados foram:  [7, 4, 5, 2]\n"
          ]
        }
      ]
    },
    {
      "cell_type": "markdown",
      "source": [
        "##Etapa 2 - Ordenar os dados\n",
        "Esse processo será feito pelos seguites métodos de ordenação:\n",
        "\n",
        "\n",
        "1.   Bubblesort\n",
        "2.   Insertionsort\n",
        "3.   Mergesort\n",
        "4.   Quicksort\n",
        "5.   Heapsort\n",
        "6.   Countingsort\n",
        "7.   Radixsort\n",
        "\n"
      ],
      "metadata": {
        "id": "56yQ78Ov3TPJ"
      }
    },
    {
      "cell_type": "markdown",
      "source": [
        "### Bubblesort\n",
        "\n"
      ],
      "metadata": {
        "id": "JwR1q-_X6qbh"
      }
    },
    {
      "cell_type": "code",
      "source": [
        "def Bubblesort1 (lista):\n",
        "  inicio = time.time()\n",
        "  tamLista = len(lista)-1\n",
        "  i = 0\n",
        "  j = 0\n",
        "  troca = 1\n",
        "  count = 0\n",
        "  while troca != 0:\n",
        "    troca = 0\n",
        "    for i in range (tamLista - count):\n",
        "      j = i + 1\n",
        "      if lista[i]>lista[j]:\n",
        "        troca = 1\n",
        "        aux = lista[i]\n",
        "        lista[i] = lista[j]\n",
        "        lista[j] = aux\n",
        "    count = count + 1\n",
        "  fim = time.time()\n",
        "  bubbleTime = fim - inicio\n",
        "  print(\"Tempo da funcao BubbleSort: \", bubbleTime)"
      ],
      "metadata": {
        "id": "coS8QZcr3ggm"
      },
      "execution_count": 35,
      "outputs": []
    },
    {
      "cell_type": "code",
      "source": [
        "def Bubblesort2 (lista):\n",
        "  inicio = time.time()\n",
        "  tamLista = len(lista)-1\n",
        "  for j in range (tamLista):\n",
        "    for i in range (tamLista):\n",
        "      if lista[i]>lista[i + 1]:\n",
        "        lista[i], lista[i + 1] = lista[i + 1], lista[i]\n",
        "  fim = time.time()\n",
        "  bubbleTime = fim - inicio\n",
        "  print(\"Tempo da funcao BubbleSort: \", bubbleTime)\n",
        "  return lista"
      ],
      "metadata": {
        "id": "a-UIxtiitnQG"
      },
      "execution_count": 36,
      "outputs": []
    },
    {
      "cell_type": "markdown",
      "source": [
        "###InsertionSort"
      ],
      "metadata": {
        "id": "dauhNBnT5HKI"
      }
    },
    {
      "cell_type": "code",
      "source": [
        "#Esse insertionSort não realiza trocas intermediarias entre os elementos\n",
        "def InsertionSort1 (lista):\n",
        "  inicio = time.time()\n",
        "  tamLista = len(lista)\n",
        "  for i in range(1, tamLista, 1):\n",
        "    troca = 0\n",
        "    print (\"Valor de i:\", i)\n",
        "    for j in range (i-1, -1, -1):\n",
        "      if lista[i] < lista[j]:\n",
        "        menor = j\n",
        "        troca = 1\n",
        "    if troca == 1:\n",
        "      lista[i], lista[menor] = lista[menor], lista[i]\n",
        "\n",
        "  fim = time.time()\n",
        "  InsertionTime = fim - inicio\n",
        "  print(\"Tempo da funcao InsertionSort: \", InsertionTime)\n",
        "\n",
        "  return lista"
      ],
      "metadata": {
        "id": "Rl1mopII5P_G"
      },
      "execution_count": 76,
      "outputs": []
    },
    {
      "cell_type": "code",
      "source": [
        "#Esse utiliza trocas intermediárias para ordenar com base no passo j somente no segundo for e i é utilizado como parametro inicializador da ordenação\n",
        "def InsertionSort2 (lista):\n",
        "  inicio = time.time()\n",
        "  tamLista = len(lista)\n",
        "  for i in range(1, tamLista):\n",
        "    for j in range(i - 1, -1, -1):\n",
        "      if lista[j] > lista[j + 1]:\n",
        "        lista[j], lista[j+1] = lista[j+1], lista[j]\n",
        "  fim = time.time()\n",
        "  InsertionTime = fim - inicio\n",
        "  print(\"Tempo da funcao InsertionSort: \", InsertionTime)\n"
      ],
      "metadata": {
        "id": "PvJLxFxhFFgE"
      },
      "execution_count": 75,
      "outputs": []
    },
    {
      "cell_type": "markdown",
      "source": [
        "###MergeSort"
      ],
      "metadata": {
        "id": "VY1_AfUIHASX"
      }
    },
    {
      "cell_type": "code",
      "source": [
        "V = [38,27,43,3,9,82,10]"
      ],
      "metadata": {
        "id": "u0wMNlAkMHr-"
      },
      "execution_count": 78,
      "outputs": []
    },
    {
      "cell_type": "code",
      "source": [
        "tamLista = len(V)\n",
        "aux = V\n",
        "\n",
        "for i in range(0, tamLista/2, tamLista/2):\n",
        "  aux"
      ],
      "metadata": {
        "colab": {
          "base_uri": "https://localhost:8080/"
        },
        "id": "FvJpE-WpHoVw",
        "outputId": "2ef5a7a2-2d57-4916-8b77-9105178fc5f8"
      },
      "execution_count": 79,
      "outputs": [
        {
          "output_type": "stream",
          "name": "stdout",
          "text": [
            "[38, 27, 43, 3, 9, 82, 10]\n"
          ]
        }
      ]
    },
    {
      "cell_type": "markdown",
      "source": [
        "##Etapa 3 - Implementação das Buscas\n",
        "\n",
        "Esse processo será feito pelos seguites métodos de ordenação:\n",
        "\n",
        "\n",
        "1.   Busca sequêncial\n",
        "2.   Busca sequencial otimizada\n",
        "3.   Busca Binária"
      ],
      "metadata": {
        "id": "7hWLhugCJjG1"
      }
    },
    {
      "cell_type": "markdown",
      "source": [
        "###Busca sequencial"
      ],
      "metadata": {
        "id": "quJ7O27OJs-i"
      }
    },
    {
      "cell_type": "code",
      "source": [
        "def BuscaSequencial(lista, x):\n",
        "  tamLista = len(lista)\n",
        "  for i in range(tamLista):\n",
        "    if lista[i] == x:\n",
        "      return i\n",
        "  return -1\n"
      ],
      "metadata": {
        "id": "U-BXNmrqKBAO"
      },
      "execution_count": 84,
      "outputs": []
    },
    {
      "cell_type": "markdown",
      "source": [
        " ### Busca Sequencial Otimizada\n",
        "\n",
        "Essa busca trata-se da busca sequencial sendo realizada em uma lista ordenada. Dessa forma, se o elemento atual da lista for maior que o buscado pode-se concluir que ele não se encontra na lista."
      ],
      "metadata": {
        "id": "pESpdfhELKyd"
      }
    },
    {
      "cell_type": "code",
      "source": [
        "V = [38,27,43,3,9,82,10]\n",
        "x =9"
      ],
      "metadata": {
        "id": "Raur-cYJKKG7"
      },
      "execution_count": 81,
      "outputs": []
    },
    {
      "cell_type": "code",
      "source": [
        "def BuscaSequencialOtimizada (lista, x):\n",
        "  tamLista = len(lista)\n",
        "  if lista[tamLista] < x:\n",
        "    return -1\n",
        "  for i in range(tamLista):\n",
        "    if lista[i] > x:\n",
        "      return -1\n",
        "    if lista[i] == x:\n",
        "      return i"
      ],
      "metadata": {
        "id": "F48492IDLwJd"
      },
      "execution_count": null,
      "outputs": []
    },
    {
      "cell_type": "markdown",
      "source": [
        "### Busca Binária"
      ],
      "metadata": {
        "id": "Fd_hQPBdM8tU"
      }
    }
  ]
}